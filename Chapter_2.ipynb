{
 "cells": [
  {
   "cell_type": "markdown",
   "metadata": {},
   "source": [
    "## Chapter 2 Names and Values "
   ]
  },
  {
   "cell_type": "markdown",
   "metadata": {},
   "source": [
    "### 2.1 introduction "
   ]
  },
  {
   "cell_type": "markdown",
   "metadata": {},
   "source": [
    "* Quiz "
   ]
  },
  {
   "cell_type": "markdown",
   "metadata": {},
   "source": [
    "1) Given the following data frame, how do I create a new column called “3” that contains the sum of 1 and 2? You may only use $, not [[. What makes 1, 2, and 3 challenging as variable names? "
   ]
  },
  {
   "cell_type": "code",
   "execution_count": 10,
   "metadata": {},
   "outputs": [],
   "source": [
    "df <- data.frame(runif(3), runif(3))\n",
    "names(df) <- c(1, 2)"
   ]
  },
  {
   "cell_type": "code",
   "execution_count": 11,
   "metadata": {},
   "outputs": [
    {
     "data": {
      "text/html": [
       "<table>\n",
       "<thead><tr><th scope=col>1</th><th scope=col>2</th></tr></thead>\n",
       "<tbody>\n",
       "\t<tr><td>0.5107584</td><td>0.8386475</td></tr>\n",
       "\t<tr><td>0.2336431</td><td>0.4589030</td></tr>\n",
       "\t<tr><td>0.4634631</td><td>0.8509293</td></tr>\n",
       "</tbody>\n",
       "</table>\n"
      ],
      "text/latex": [
       "\\begin{tabular}{r|ll}\n",
       " 1 & 2\\\\\n",
       "\\hline\n",
       "\t 0.5107584 & 0.8386475\\\\\n",
       "\t 0.2336431 & 0.4589030\\\\\n",
       "\t 0.4634631 & 0.8509293\\\\\n",
       "\\end{tabular}\n"
      ],
      "text/markdown": [
       "\n",
       "| 1 | 2 |\n",
       "|---|---|\n",
       "| 0.5107584 | 0.8386475 |\n",
       "| 0.2336431 | 0.4589030 |\n",
       "| 0.4634631 | 0.8509293 |\n",
       "\n"
      ],
      "text/plain": [
       "  1         2        \n",
       "1 0.5107584 0.8386475\n",
       "2 0.2336431 0.4589030\n",
       "3 0.4634631 0.8509293"
      ]
     },
     "metadata": {},
     "output_type": "display_data"
    }
   ],
   "source": [
    "df"
   ]
  },
  {
   "cell_type": "code",
   "execution_count": 12,
   "metadata": {},
   "outputs": [
    {
     "ename": "ERROR",
     "evalue": "Error in parse(text = x, srcfile = src): <text>:1:4: unexpected numeric constant\n1: df$3\n       ^\n",
     "output_type": "error",
     "traceback": [
      "Error in parse(text = x, srcfile = src): <text>:1:4: unexpected numeric constant\n1: df$3\n       ^\nTraceback:\n"
     ]
    }
   ],
   "source": [
    "df$3 <- df$1 + df$2"
   ]
  },
  {
   "cell_type": "markdown",
   "metadata": {},
   "source": [
    "2) In the following code, how much memory does y occupy?"
   ]
  },
  {
   "cell_type": "code",
   "execution_count": 15,
   "metadata": {},
   "outputs": [],
   "source": [
    "x <- runif(1e6)\n",
    "y <- list(x, x, x)"
   ]
  },
  {
   "cell_type": "code",
   "execution_count": 18,
   "metadata": {},
   "outputs": [
    {
     "data": {
      "text/plain": [
       "24000192 bytes"
      ]
     },
     "metadata": {},
     "output_type": "display_data"
    }
   ],
   "source": [
    "object.size(y)"
   ]
  },
  {
   "cell_type": "markdown",
   "metadata": {},
   "source": [
    "3) On which line does \"a\" get copied in the following example?"
   ]
  },
  {
   "cell_type": "code",
   "execution_count": 19,
   "metadata": {},
   "outputs": [],
   "source": [
    "a <- c(1, 5, 3, 2)\n",
    "b <- a\n",
    "b[[1]] <- 10"
   ]
  },
  {
   "cell_type": "code",
   "execution_count": null,
   "metadata": {},
   "outputs": [],
   "source": [
    "# both line 2 and 3? "
   ]
  },
  {
   "cell_type": "code",
   "execution_count": 24,
   "metadata": {},
   "outputs": [
    {
     "name": "stderr",
     "output_type": "stream",
     "text": [
      "Installing package into '/root/R_libs'\n",
      "(as 'lib' is unspecified)\n",
      "also installing the dependencies 'rlang', 'cpp11'\n",
      "\n"
     ]
    }
   ],
   "source": [
    "install.packages(\"lobstr\")\n",
    "library(lobstr)"
   ]
  },
  {
   "cell_type": "markdown",
   "metadata": {},
   "source": [
    "### 2.2 binding basics "
   ]
  },
  {
   "cell_type": "code",
   "execution_count": 25,
   "metadata": {},
   "outputs": [],
   "source": [
    "x <- c(1, 2, 3)"
   ]
  },
  {
   "cell_type": "code",
   "execution_count": 26,
   "metadata": {},
   "outputs": [],
   "source": [
    "y <- x"
   ]
  },
  {
   "cell_type": "code",
   "execution_count": 28,
   "metadata": {},
   "outputs": [
    {
     "data": {
      "text/html": [
       "'0xf5a9030'"
      ],
      "text/latex": [
       "'0xf5a9030'"
      ],
      "text/markdown": [
       "'0xf5a9030'"
      ],
      "text/plain": [
       "[1] \"0xf5a9030\""
      ]
     },
     "metadata": {},
     "output_type": "display_data"
    },
    {
     "data": {
      "text/html": [
       "'0xf5a9030'"
      ],
      "text/latex": [
       "'0xf5a9030'"
      ],
      "text/markdown": [
       "'0xf5a9030'"
      ],
      "text/plain": [
       "[1] \"0xf5a9030\""
      ]
     },
     "metadata": {},
     "output_type": "display_data"
    }
   ],
   "source": [
    "obj_addr(x)\n",
    "obj_addr(y)\n"
   ]
  },
  {
   "cell_type": "code",
   "execution_count": 29,
   "metadata": {},
   "outputs": [
    {
     "ename": "ERROR",
     "evalue": "Error in parse(text = x, srcfile = src): <text>:1:1: unexpected input\n1: _\n    ^\n",
     "output_type": "error",
     "traceback": [
      "Error in parse(text = x, srcfile = src): <text>:1:1: unexpected input\n1: _\n    ^\nTraceback:\n"
     ]
    }
   ],
   "source": [
    "_abc <- 1\n"
   ]
  },
  {
   "cell_type": "code",
   "execution_count": 30,
   "metadata": {},
   "outputs": [
    {
     "ename": "ERROR",
     "evalue": "Error in parse(text = x, srcfile = src): <text>:1:4: unexpected assignment\n1: if <-\n       ^\n",
     "output_type": "error",
     "traceback": [
      "Error in parse(text = x, srcfile = src): <text>:1:4: unexpected assignment\n1: if <-\n       ^\nTraceback:\n"
     ]
    }
   ],
   "source": [
    "if <- 10"
   ]
  },
  {
   "cell_type": "code",
   "execution_count": 31,
   "metadata": {},
   "outputs": [
    {
     "data": {
      "text/html": [
       "1"
      ],
      "text/latex": [
       "1"
      ],
      "text/markdown": [
       "1"
      ],
      "text/plain": [
       "[1] 1"
      ]
     },
     "metadata": {},
     "output_type": "display_data"
    },
    {
     "data": {
      "text/html": [
       "10"
      ],
      "text/latex": [
       "10"
      ],
      "text/markdown": [
       "10"
      ],
      "text/plain": [
       "[1] 10"
      ]
     },
     "metadata": {},
     "output_type": "display_data"
    }
   ],
   "source": [
    "`_abc` <- 1\n",
    "`_abc`\n",
    "\n",
    "`if` <- 10\n",
    "`if`\n"
   ]
  },
  {
   "cell_type": "markdown",
   "metadata": {},
   "source": [
    "### 2.2.2 exercises "
   ]
  },
  {
   "cell_type": "code",
   "execution_count": 32,
   "metadata": {},
   "outputs": [],
   "source": [
    "# 1) \n",
    "a <- 1:10\n",
    "b <- a\n",
    "c <- b\n",
    "d <- 1:10"
   ]
  },
  {
   "cell_type": "code",
   "execution_count": 35,
   "metadata": {},
   "outputs": [
    {
     "data": {
      "text/html": [
       "'0x10929480'"
      ],
      "text/latex": [
       "'0x10929480'"
      ],
      "text/markdown": [
       "'0x10929480'"
      ],
      "text/plain": [
       "[1] \"0x10929480\""
      ]
     },
     "metadata": {},
     "output_type": "display_data"
    },
    {
     "data": {
      "text/html": [
       "'0x10929480'"
      ],
      "text/latex": [
       "'0x10929480'"
      ],
      "text/markdown": [
       "'0x10929480'"
      ],
      "text/plain": [
       "[1] \"0x10929480\""
      ]
     },
     "metadata": {},
     "output_type": "display_data"
    },
    {
     "data": {
      "text/html": [
       "'0x10929480'"
      ],
      "text/latex": [
       "'0x10929480'"
      ],
      "text/markdown": [
       "'0x10929480'"
      ],
      "text/plain": [
       "[1] \"0x10929480\""
      ]
     },
     "metadata": {},
     "output_type": "display_data"
    },
    {
     "data": {
      "text/html": [
       "'0x10929480'"
      ],
      "text/latex": [
       "'0x10929480'"
      ],
      "text/markdown": [
       "'0x10929480'"
      ],
      "text/plain": [
       "[1] \"0x10929480\""
      ]
     },
     "metadata": {},
     "output_type": "display_data"
    },
    {
     "data": {
      "text/html": [
       "'0x10929480'"
      ],
      "text/latex": [
       "'0x10929480'"
      ],
      "text/markdown": [
       "'0x10929480'"
      ],
      "text/plain": [
       "[1] \"0x10929480\""
      ]
     },
     "metadata": {},
     "output_type": "display_data"
    }
   ],
   "source": [
    "# 2) \n",
    "obj_addr(mean)\n",
    "obj_addr(base::mean)\n",
    "obj_addr(get(\"mean\"))\n",
    "obj_addr(evalq(mean))\n",
    "obj_addr(match.fun(\"mean\"))\n"
   ]
  },
  {
   "cell_type": "code",
   "execution_count": 38,
   "metadata": {},
   "outputs": [
    {
     "data": {
      "text/html": [
       "'X3'"
      ],
      "text/latex": [
       "'X3'"
      ],
      "text/markdown": [
       "'X3'"
      ],
      "text/plain": [
       "[1] \"X3\""
      ]
     },
     "metadata": {},
     "output_type": "display_data"
    }
   ],
   "source": [
    "#4) \n",
    "make.names(3)"
   ]
  },
  {
   "cell_type": "code",
   "execution_count": 41,
   "metadata": {},
   "outputs": [
    {
     "ename": "ERROR",
     "evalue": "Error in parse(text = x, srcfile = src): <text>:1:12: unexpected input\n1: make.names(_\n               ^\n",
     "output_type": "error",
     "traceback": [
      "Error in parse(text = x, srcfile = src): <text>:1:12: unexpected input\n1: make.names(_\n               ^\nTraceback:\n"
     ]
    }
   ],
   "source": [
    "make.names(_)"
   ]
  },
  {
   "cell_type": "code",
   "execution_count": 42,
   "metadata": {},
   "outputs": [
    {
     "ename": "ERROR",
     "evalue": "Error in parse(text = x, srcfile = src): <text>:1:14: unexpected ')'\n1: make.names(if)\n                 ^\n",
     "output_type": "error",
     "traceback": [
      "Error in parse(text = x, srcfile = src): <text>:1:14: unexpected ')'\n1: make.names(if)\n                 ^\nTraceback:\n"
     ]
    }
   ],
   "source": [
    "make.names(if)"
   ]
  },
  {
   "cell_type": "code",
   "execution_count": 43,
   "metadata": {},
   "outputs": [
    {
     "ename": "ERROR",
     "evalue": "Error in parse(text = x, srcfile = src): <text>:1:12: unexpected input\n1: make.names(_\n               ^\n",
     "output_type": "error",
     "traceback": [
      "Error in parse(text = x, srcfile = src): <text>:1:12: unexpected input\n1: make.names(_\n               ^\nTraceback:\n"
     ]
    }
   ],
   "source": [
    "make.names(_abc)"
   ]
  },
  {
   "cell_type": "code",
   "execution_count": 44,
   "metadata": {},
   "outputs": [
    {
     "ename": "ERROR",
     "evalue": "Error in 1.23 <- 10: invalid (do_set) left-hand side to assignment\n",
     "output_type": "error",
     "traceback": [
      "Error in 1.23 <- 10: invalid (do_set) left-hand side to assignment\nTraceback:\n"
     ]
    }
   ],
   "source": [
    ".123e1 <- 10"
   ]
  },
  {
   "cell_type": "code",
   "execution_count": 45,
   "metadata": {},
   "outputs": [
    {
     "data": {
      "text/html": [
       "'X1.23'"
      ],
      "text/latex": [
       "'X1.23'"
      ],
      "text/markdown": [
       "'X1.23'"
      ],
      "text/plain": [
       "[1] \"X1.23\""
      ]
     },
     "metadata": {},
     "output_type": "display_data"
    }
   ],
   "source": [
    "make.names(.123e1)"
   ]
  },
  {
   "cell_type": "code",
   "execution_count": 46,
   "metadata": {},
   "outputs": [],
   "source": [
    "?make.names"
   ]
  },
  {
   "cell_type": "markdown",
   "metadata": {},
   "source": [
    "### 2.3 copy-on-modify "
   ]
  },
  {
   "cell_type": "code",
   "execution_count": 47,
   "metadata": {},
   "outputs": [
    {
     "data": {
      "text/html": [
       "<ol class=list-inline>\n",
       "\t<li>1</li>\n",
       "\t<li>2</li>\n",
       "\t<li>3</li>\n",
       "</ol>\n"
      ],
      "text/latex": [
       "\\begin{enumerate*}\n",
       "\\item 1\n",
       "\\item 2\n",
       "\\item 3\n",
       "\\end{enumerate*}\n"
      ],
      "text/markdown": [
       "1. 1\n",
       "2. 2\n",
       "3. 3\n",
       "\n",
       "\n"
      ],
      "text/plain": [
       "[1] 1 2 3"
      ]
     },
     "metadata": {},
     "output_type": "display_data"
    }
   ],
   "source": [
    "x <- c(1, 2, 3)\n",
    "y <- x\n",
    "\n",
    "y[[3]] <- 4\n",
    "x\n"
   ]
  },
  {
   "cell_type": "code",
   "execution_count": 48,
   "metadata": {},
   "outputs": [
    {
     "name": "stdout",
     "output_type": "stream",
     "text": [
      "<0x5749fb0> \n"
     ]
    }
   ],
   "source": [
    "x <- c(1, 2, 3)\n",
    "cat(tracemem(x), \"\\n\")"
   ]
  },
  {
   "cell_type": "code",
   "execution_count": 49,
   "metadata": {},
   "outputs": [
    {
     "name": "stdout",
     "output_type": "stream",
     "text": [
      "tracemem[0x5749fb0 -> 0xf3d0200]: eval eval withVisible withCallingHandlers doTryCatch tryCatchOne tryCatchList tryCatch try handle timing_fn evaluate_call evaluate doTryCatch tryCatchOne tryCatchList doTryCatch tryCatchOne tryCatchList tryCatch <Anonymous> handle_shell <Anonymous> <Anonymous> \n"
     ]
    }
   ],
   "source": [
    "y <- x\n",
    "y[[3]] <- 4L"
   ]
  },
  {
   "cell_type": "code",
   "execution_count": 50,
   "metadata": {},
   "outputs": [],
   "source": [
    "y[[3]] <- 5L\n",
    "\n",
    "untracemem(x)"
   ]
  },
  {
   "cell_type": "code",
   "execution_count": 51,
   "metadata": {},
   "outputs": [],
   "source": [
    "l1 <- list(1, 2, 3)"
   ]
  },
  {
   "cell_type": "code",
   "execution_count": 52,
   "metadata": {},
   "outputs": [],
   "source": [
    "l2 <- l1"
   ]
  },
  {
   "cell_type": "code",
   "execution_count": 53,
   "metadata": {},
   "outputs": [],
   "source": [
    "l2[[3]] <- 4"
   ]
  },
  {
   "cell_type": "code",
   "execution_count": 55,
   "metadata": {},
   "outputs": [
    {
     "data": {
      "text/plain": [
       "\u001b[33mo\u001b[39m [\u001b[1m1\u001b[22m:0x121cd6d0] <list> \n",
       "+-[\u001b[1m2\u001b[22m:0x13360da8] <dbl> \n",
       "+-[\u001b[1m3\u001b[22m:0x13360d78] <dbl> \n",
       "\\-[\u001b[1m4\u001b[22m:0x13360d48] <dbl> \n",
       " \n",
       "\u001b[33mo\u001b[39m [\u001b[1m5\u001b[22m:0xf1975d8] <list> \n",
       "+-[\u001b[90m2:0x13360da8\u001b[39m] \n",
       "+-[\u001b[90m3:0x13360d78\u001b[39m] \n",
       "\\-[\u001b[1m6\u001b[22m:0x150ca808] <dbl> "
      ]
     },
     "metadata": {},
     "output_type": "display_data"
    }
   ],
   "source": [
    "ref(l1, l2)"
   ]
  },
  {
   "cell_type": "markdown",
   "metadata": {},
   "source": [
    "### 2.3.6 exercises "
   ]
  },
  {
   "cell_type": "code",
   "execution_count": 91,
   "metadata": {},
   "outputs": [
    {
     "data": {
      "text/html": [
       "'&lt;0x13c94ec8&gt;'"
      ],
      "text/latex": [
       "'<0x13c94ec8>'"
      ],
      "text/markdown": [
       "'&lt;0x13c94ec8&gt;'"
      ],
      "text/plain": [
       "[1] \"<0x13c94ec8>\""
      ]
     },
     "metadata": {},
     "output_type": "display_data"
    }
   ],
   "source": [
    "# 1\n",
    "tracemem(1:10) # because tracemem only print out info when object is being copied, there is no copy here "
   ]
  },
  {
   "cell_type": "code",
   "execution_count": 87,
   "metadata": {},
   "outputs": [
    {
     "data": {
      "text/html": [
       "<ol class=list-inline>\n",
       "\t<li>1</li>\n",
       "\t<li>2</li>\n",
       "\t<li>3</li>\n",
       "</ol>\n"
      ],
      "text/latex": [
       "\\begin{enumerate*}\n",
       "\\item 1\n",
       "\\item 2\n",
       "\\item 3\n",
       "\\end{enumerate*}\n"
      ],
      "text/markdown": [
       "1. 1\n",
       "2. 2\n",
       "3. 3\n",
       "\n",
       "\n"
      ],
      "text/plain": [
       "[1] 1 2 3"
      ]
     },
     "metadata": {},
     "output_type": "display_data"
    },
    {
     "data": {
      "text/html": [
       "'&lt;0xf25e7f8&gt;'"
      ],
      "text/latex": [
       "'<0xf25e7f8>'"
      ],
      "text/markdown": [
       "'&lt;0xf25e7f8&gt;'"
      ],
      "text/plain": [
       "[1] \"<0xf25e7f8>\""
      ]
     },
     "metadata": {},
     "output_type": "display_data"
    },
    {
     "name": "stdout",
     "output_type": "stream",
     "text": [
      "tracemem[0xf25e7f8 -> 0xf256190]: eval eval withVisible withCallingHandlers doTryCatch tryCatchOne tryCatchList tryCatch try handle timing_fn evaluate_call evaluate doTryCatch tryCatchOne tryCatchList doTryCatch tryCatchOne tryCatchList tryCatch <Anonymous> handle_shell <Anonymous> <Anonymous> \n",
      "tracemem[0xf256190 -> 0x122457d0]: eval eval withVisible withCallingHandlers doTryCatch tryCatchOne tryCatchList tryCatch try handle timing_fn evaluate_call evaluate doTryCatch tryCatchOne tryCatchList doTryCatch tryCatchOne tryCatchList tryCatch <Anonymous> handle_shell <Anonymous> <Anonymous> \n"
     ]
    },
    {
     "data": {
      "text/html": [
       "<ol class=list-inline>\n",
       "\t<li>1</li>\n",
       "\t<li>2</li>\n",
       "\t<li>4</li>\n",
       "</ol>\n"
      ],
      "text/latex": [
       "\\begin{enumerate*}\n",
       "\\item 1\n",
       "\\item 2\n",
       "\\item 4\n",
       "\\end{enumerate*}\n"
      ],
      "text/markdown": [
       "1. 1\n",
       "2. 2\n",
       "3. 4\n",
       "\n",
       "\n"
      ],
      "text/plain": [
       "[1] 1 2 4"
      ]
     },
     "metadata": {},
     "output_type": "display_data"
    }
   ],
   "source": [
    "# 2\n",
    "x <- c(1L, 2L, 3L) # binding to x\n",
    "x\n",
    "tracemem(x)\n",
    "x[[3]] <- 4 # change 3rd element to 4 \n",
    "untracemem(x)\n",
    "x"
   ]
  },
  {
   "cell_type": "code",
   "execution_count": 76,
   "metadata": {},
   "outputs": [
    {
     "data": {
      "text/html": [
       "'&lt;0xf74cb08&gt;'"
      ],
      "text/latex": [
       "'<0xf74cb08>'"
      ],
      "text/markdown": [
       "'&lt;0xf74cb08&gt;'"
      ],
      "text/plain": [
       "[1] \"<0xf74cb08>\""
      ]
     },
     "metadata": {},
     "output_type": "display_data"
    }
   ],
   "source": [
    "x <- c(1, 2, 3)\n",
    "tracemem(x)\n",
    "y[[3]] <- 4\n"
   ]
  },
  {
   "cell_type": "code",
   "execution_count": 88,
   "metadata": {},
   "outputs": [],
   "source": [
    "x <- list(1:10)\n",
    "x[[2]] <- x"
   ]
  },
  {
   "cell_type": "code",
   "execution_count": 90,
   "metadata": {},
   "outputs": [
    {
     "data": {
      "text/html": [
       "<ol>\n",
       "\t<li><ol class=list-inline>\n",
       "\t<li>1</li>\n",
       "\t<li>2</li>\n",
       "\t<li>3</li>\n",
       "\t<li>4</li>\n",
       "\t<li>5</li>\n",
       "\t<li>6</li>\n",
       "\t<li>7</li>\n",
       "\t<li>8</li>\n",
       "\t<li>9</li>\n",
       "\t<li>10</li>\n",
       "</ol>\n",
       "</li>\n",
       "\t<li><ol>\n",
       "\t<li><ol class=list-inline>\n",
       "\t<li>1</li>\n",
       "\t<li>2</li>\n",
       "\t<li>3</li>\n",
       "\t<li>4</li>\n",
       "\t<li>5</li>\n",
       "\t<li>6</li>\n",
       "\t<li>7</li>\n",
       "\t<li>8</li>\n",
       "\t<li>9</li>\n",
       "\t<li>10</li>\n",
       "</ol>\n",
       "</li>\n",
       "</ol>\n",
       "</li>\n",
       "</ol>\n"
      ],
      "text/latex": [
       "\\begin{enumerate}\n",
       "\\item \\begin{enumerate*}\n",
       "\\item 1\n",
       "\\item 2\n",
       "\\item 3\n",
       "\\item 4\n",
       "\\item 5\n",
       "\\item 6\n",
       "\\item 7\n",
       "\\item 8\n",
       "\\item 9\n",
       "\\item 10\n",
       "\\end{enumerate*}\n",
       "\n",
       "\\item \\begin{enumerate}\n",
       "\\item \\begin{enumerate*}\n",
       "\\item 1\n",
       "\\item 2\n",
       "\\item 3\n",
       "\\item 4\n",
       "\\item 5\n",
       "\\item 6\n",
       "\\item 7\n",
       "\\item 8\n",
       "\\item 9\n",
       "\\item 10\n",
       "\\end{enumerate*}\n",
       "\n",
       "\\end{enumerate}\n",
       "\n",
       "\\end{enumerate}\n"
      ],
      "text/markdown": [
       "1. 1. 1\n",
       "2. 2\n",
       "3. 3\n",
       "4. 4\n",
       "5. 5\n",
       "6. 6\n",
       "7. 7\n",
       "8. 8\n",
       "9. 9\n",
       "10. 10\n",
       "\n",
       "\n",
       "\n",
       "2. 1. 1. 1\n",
       "2. 2\n",
       "3. 3\n",
       "4. 4\n",
       "5. 5\n",
       "6. 6\n",
       "7. 7\n",
       "8. 8\n",
       "9. 9\n",
       "10. 10\n",
       "\n",
       "\n",
       "\n",
       "\n",
       "\n",
       "\n",
       "\n",
       "\n"
      ],
      "text/plain": [
       "[[1]]\n",
       " [1]  1  2  3  4  5  6  7  8  9 10\n",
       "\n",
       "[[2]]\n",
       "[[2]][[1]]\n",
       " [1]  1  2  3  4  5  6  7  8  9 10\n",
       "\n"
      ]
     },
     "metadata": {},
     "output_type": "display_data"
    }
   ],
   "source": [
    "x"
   ]
  },
  {
   "cell_type": "markdown",
   "metadata": {},
   "source": [
    "### 2.4 object size "
   ]
  },
  {
   "cell_type": "code",
   "execution_count": 93,
   "metadata": {},
   "outputs": [
    {
     "data": {
      "text/plain": [
       "1.5 kB"
      ]
     },
     "metadata": {},
     "output_type": "display_data"
    },
    {
     "data": {
      "text/plain": [
       "3.46 MB"
      ]
     },
     "metadata": {},
     "output_type": "display_data"
    }
   ],
   "source": [
    "obj_size(letters)\n",
    "obj_size(ggplot2::diamonds)\n"
   ]
  },
  {
   "cell_type": "code",
   "execution_count": 95,
   "metadata": {},
   "outputs": [
    {
     "data": {
      "text/plain": [
       "8 MB"
      ]
     },
     "metadata": {},
     "output_type": "display_data"
    },
    {
     "data": {
      "text/plain": [
       "8 MB"
      ]
     },
     "metadata": {},
     "output_type": "display_data"
    }
   ],
   "source": [
    "x <- runif(1e6)\n",
    "obj_size(x)\n",
    "\n",
    "y <- list(x, x, x)\n",
    "obj_size(y)\n"
   ]
  },
  {
   "cell_type": "code",
   "execution_count": 96,
   "metadata": {},
   "outputs": [
    {
     "data": {
      "text/plain": [
       "72 B"
      ]
     },
     "metadata": {},
     "output_type": "display_data"
    }
   ],
   "source": [
    "obj_size(list(NULL, NULL, NULL))\n"
   ]
  },
  {
   "cell_type": "code",
   "execution_count": 97,
   "metadata": {},
   "outputs": [
    {
     "data": {
      "text/plain": [
       "R version 3.4.4 (2018-03-15)\n",
       "Platform: x86_64-pc-linux-gnu (64-bit)\n",
       "Running under: Ubuntu 16.04.5 LTS\n",
       "\n",
       "Matrix products: default\n",
       "BLAS: /usr/lib/libblas/libblas.so.3.6.0\n",
       "LAPACK: /usr/lib/lapack/liblapack.so.3.6.0\n",
       "\n",
       "locale:\n",
       "[1] C\n",
       "\n",
       "attached base packages:\n",
       "[1] stats     graphics  grDevices utils     datasets  methods   base     \n",
       "\n",
       "other attached packages:\n",
       "[1] lobstr_1.1.2\n",
       "\n",
       "loaded via a namespace (and not attached):\n",
       " [1] Rcpp_1.0.1           magrittr_1.5         tidyselect_0.2.5    \n",
       " [4] munsell_0.5.0        uuid_0.1-2           colorspace_1.4-1    \n",
       " [7] R6_2.4.0             rlang_1.0.4          dplyr_0.8.0.1       \n",
       "[10] plyr_1.8.4           tools_3.4.4          grid_3.4.4          \n",
       "[13] gtable_0.2.0         cli_1.1.0            htmltools_0.3.6     \n",
       "[16] lazyeval_0.2.2       assertthat_0.2.1     digest_0.6.18       \n",
       "[19] tibble_2.1.1         crayon_1.3.4         IRdisplay_0.7.0     \n",
       "[22] purrr_0.3.2          ggplot2_3.1.0        repr_0.19.2         \n",
       "[25] base64enc_0.1-3      IRkernel_0.8.15.9000 glue_1.3.1          \n",
       "[28] evaluate_0.13        pbdZMQ_0.3-3         compiler_3.4.4      \n",
       "[31] pillar_1.3.1         scales_1.0.0         prettyunits_1.0.2   \n",
       "[34] jsonlite_1.6         pkgconfig_2.0.2     "
      ]
     },
     "metadata": {},
     "output_type": "display_data"
    }
   ],
   "source": [
    "sessionInfo()"
   ]
  },
  {
   "cell_type": "code",
   "execution_count": 98,
   "metadata": {},
   "outputs": [
    {
     "data": {
      "text/plain": [
       "56 B"
      ]
     },
     "metadata": {},
     "output_type": "display_data"
    },
    {
     "data": {
      "text/plain": [
       "4.04 kB"
      ]
     },
     "metadata": {},
     "output_type": "display_data"
    },
    {
     "data": {
      "text/plain": [
       "4 MB"
      ]
     },
     "metadata": {},
     "output_type": "display_data"
    },
    {
     "data": {
      "text/plain": [
       "4 GB"
      ]
     },
     "metadata": {},
     "output_type": "display_data"
    }
   ],
   "source": [
    "obj_size(1:3)\n",
    "obj_size(1:1e3)\n",
    "obj_size(1:1e6)\n",
    "obj_size(1:1e9)\n",
    "# !!! for this benefit, need to have R version > 3.5.1 "
   ]
  },
  {
   "cell_type": "code",
   "execution_count": 99,
   "metadata": {},
   "outputs": [
    {
     "data": {
      "text/plain": [
       "8004840 bytes"
      ]
     },
     "metadata": {},
     "output_type": "display_data"
    },
    {
     "data": {
      "text/plain": [
       "80.88 kB"
      ]
     },
     "metadata": {},
     "output_type": "display_data"
    }
   ],
   "source": [
    "y <- rep(list(runif(1e4)), 100)\n",
    "\n",
    "object.size(y)\n",
    "#> 8005648 bytes\n",
    "obj_size(y)\n",
    "#> 80,896 B"
   ]
  },
  {
   "cell_type": "code",
   "execution_count": 101,
   "metadata": {},
   "outputs": [],
   "source": [
    "# object.size() doesn’t account for shared elements within lists. Therefore, the results differ by a factor of ~ 100."
   ]
  },
  {
   "cell_type": "code",
   "execution_count": 102,
   "metadata": {},
   "outputs": [
    {
     "data": {
      "text/plain": [
       "16.87 kB"
      ]
     },
     "metadata": {},
     "output_type": "display_data"
    }
   ],
   "source": [
    "funs <- list(mean, sd, var)\n",
    "obj_size(funs)\n",
    "#> 17,608 B"
   ]
  },
  {
   "cell_type": "code",
   "execution_count": 108,
   "metadata": {},
   "outputs": [
    {
     "data": {
      "text/plain": [
       "8 MB"
      ]
     },
     "metadata": {},
     "output_type": "display_data"
    }
   ],
   "source": [
    "a <- runif(1e6)\n",
    "obj_size(a) \n"
   ]
  },
  {
   "cell_type": "code",
   "execution_count": 109,
   "metadata": {},
   "outputs": [
    {
     "data": {
      "text/plain": [
       "8 MB"
      ]
     },
     "metadata": {},
     "output_type": "display_data"
    },
    {
     "data": {
      "text/plain": [
       "8 MB"
      ]
     },
     "metadata": {},
     "output_type": "display_data"
    }
   ],
   "source": [
    "b <- list(a, a)\n",
    "obj_size(b) # similar to size of a \n",
    "obj_size(a, b) # \n"
   ]
  },
  {
   "cell_type": "code",
   "execution_count": 110,
   "metadata": {},
   "outputs": [
    {
     "data": {
      "text/plain": [
       "16 MB"
      ]
     },
     "metadata": {},
     "output_type": "display_data"
    },
    {
     "data": {
      "text/plain": [
       "16 MB"
      ]
     },
     "metadata": {},
     "output_type": "display_data"
    }
   ],
   "source": [
    "b[[1]][[1]] <- 10\n",
    "obj_size(b) \n",
    "obj_size(a, b) \n"
   ]
  },
  {
   "cell_type": "code",
   "execution_count": 113,
   "metadata": {},
   "outputs": [
    {
     "data": {
      "text/plain": [
       "16 MB"
      ]
     },
     "metadata": {},
     "output_type": "display_data"
    },
    {
     "data": {
      "text/plain": [
       "24 MB"
      ]
     },
     "metadata": {},
     "output_type": "display_data"
    }
   ],
   "source": [
    "b[[2]][[1]] <- 10 # identical \n",
    "obj_size(b)\n",
    "obj_size(a, b)"
   ]
  },
  {
   "cell_type": "code",
   "execution_count": 117,
   "metadata": {},
   "outputs": [
    {
     "data": {
      "image/png": "[encoded data removed]",
      "text/plain": [
       "plot without title"
      ]
     },
     "metadata": {},
     "output_type": "display_data"
    }
   ],
   "source": [
    "plot(runif(100))"
   ]
  },
  {
   "cell_type": "code",
   "execution_count": 119,
   "metadata": {},
   "outputs": [
    {
     "data": {
      "text/html": [
       "<table>\n",
       "<thead><tr><th scope=col>X1</th><th scope=col>X2</th><th scope=col>X3</th><th scope=col>X4</th><th scope=col>X5</th></tr></thead>\n",
       "<tbody>\n",
       "\t<tr><td>0.7494041 </td><td>0.29952666</td><td>0.9923325 </td><td>0.7254792 </td><td>0.4385251 </td></tr>\n",
       "\t<tr><td>0.9390155 </td><td>0.54839617</td><td>0.6385386 </td><td>0.7416056 </td><td>0.8162512 </td></tr>\n",
       "\t<tr><td>0.3767621 </td><td>0.12761092</td><td>0.3211573 </td><td>0.5640514 </td><td>0.2826295 </td></tr>\n",
       "\t<tr><td>0.1593245 </td><td>0.22042751</td><td>0.9609860 </td><td>0.8622441 </td><td>0.5501628 </td></tr>\n",
       "\t<tr><td>0.1066856 </td><td>0.34057479</td><td>0.3556174 </td><td>0.4933283 </td><td>0.7985722 </td></tr>\n",
       "\t<tr><td>0.9238035 </td><td>0.03564455</td><td>0.5786496 </td><td>0.9408145 </td><td>0.4155291 </td></tr>\n",
       "</tbody>\n",
       "</table>\n"
      ],
      "text/latex": [
       "\\begin{tabular}{r|lllll}\n",
       " X1 & X2 & X3 & X4 & X5\\\\\n",
       "\\hline\n",
       "\t 0.7494041  & 0.29952666 & 0.9923325  & 0.7254792  & 0.4385251 \\\\\n",
       "\t 0.9390155  & 0.54839617 & 0.6385386  & 0.7416056  & 0.8162512 \\\\\n",
       "\t 0.3767621  & 0.12761092 & 0.3211573  & 0.5640514  & 0.2826295 \\\\\n",
       "\t 0.1593245  & 0.22042751 & 0.9609860  & 0.8622441  & 0.5501628 \\\\\n",
       "\t 0.1066856  & 0.34057479 & 0.3556174  & 0.4933283  & 0.7985722 \\\\\n",
       "\t 0.9238035  & 0.03564455 & 0.5786496  & 0.9408145  & 0.4155291 \\\\\n",
       "\\end{tabular}\n"
      ],
      "text/markdown": [
       "\n",
       "| X1 | X2 | X3 | X4 | X5 |\n",
       "|---|---|---|---|---|\n",
       "| 0.7494041  | 0.29952666 | 0.9923325  | 0.7254792  | 0.4385251  |\n",
       "| 0.9390155  | 0.54839617 | 0.6385386  | 0.7416056  | 0.8162512  |\n",
       "| 0.3767621  | 0.12761092 | 0.3211573  | 0.5640514  | 0.2826295  |\n",
       "| 0.1593245  | 0.22042751 | 0.9609860  | 0.8622441  | 0.5501628  |\n",
       "| 0.1066856  | 0.34057479 | 0.3556174  | 0.4933283  | 0.7985722  |\n",
       "| 0.9238035  | 0.03564455 | 0.5786496  | 0.9408145  | 0.4155291  |\n",
       "\n"
      ],
      "text/plain": [
       "  X1        X2         X3        X4        X5       \n",
       "1 0.7494041 0.29952666 0.9923325 0.7254792 0.4385251\n",
       "2 0.9390155 0.54839617 0.6385386 0.7416056 0.8162512\n",
       "3 0.3767621 0.12761092 0.3211573 0.5640514 0.2826295\n",
       "4 0.1593245 0.22042751 0.9609860 0.8622441 0.5501628\n",
       "5 0.1066856 0.34057479 0.3556174 0.4933283 0.7985722\n",
       "6 0.9238035 0.03564455 0.5786496 0.9408145 0.4155291"
      ]
     },
     "metadata": {},
     "output_type": "display_data"
    }
   ],
   "source": [
    "x <- data.frame(matrix(runif(5 * 1e4), ncol = 5))\n",
    "medians <- vapply(x, median, numeric(1))\n",
    "head(x)"
   ]
  },
  {
   "cell_type": "code",
   "execution_count": 120,
   "metadata": {},
   "outputs": [
    {
     "data": {
      "text/html": [
       "<dl class=dl-horizontal>\n",
       "\t<dt>X1</dt>\n",
       "\t\t<dd>0.505165049689822</dd>\n",
       "\t<dt>X2</dt>\n",
       "\t\t<dd>0.492357210721821</dd>\n",
       "\t<dt>X3</dt>\n",
       "\t\t<dd>0.506840597372502</dd>\n",
       "\t<dt>X4</dt>\n",
       "\t\t<dd>0.503071541315876</dd>\n",
       "\t<dt>X5</dt>\n",
       "\t\t<dd>0.49874309822917</dd>\n",
       "</dl>\n"
      ],
      "text/latex": [
       "\\begin{description*}\n",
       "\\item[X1] 0.505165049689822\n",
       "\\item[X2] 0.492357210721821\n",
       "\\item[X3] 0.506840597372502\n",
       "\\item[X4] 0.503071541315876\n",
       "\\item[X5] 0.49874309822917\n",
       "\\end{description*}\n"
      ],
      "text/markdown": [
       "X1\n",
       ":   0.505165049689822X2\n",
       ":   0.492357210721821X3\n",
       ":   0.506840597372502X4\n",
       ":   0.503071541315876X5\n",
       ":   0.49874309822917\n",
       "\n"
      ],
      "text/plain": [
       "       X1        X2        X3        X4        X5 \n",
       "0.5051650 0.4923572 0.5068406 0.5030715 0.4987431 "
      ]
     },
     "metadata": {},
     "output_type": "display_data"
    }
   ],
   "source": [
    "head(medians)"
   ]
  },
  {
   "cell_type": "code",
   "execution_count": 121,
   "metadata": {},
   "outputs": [],
   "source": [
    "for (i in seq_along(medians)) {\n",
    "  x[[i]] <- x[[i]] - medians[[i]]\n",
    "}"
   ]
  },
  {
   "cell_type": "code",
   "execution_count": 124,
   "metadata": {},
   "outputs": [
    {
     "name": "stdout",
     "output_type": "stream",
     "text": [
      "<0x1231e2b8> \n",
      "tracemem[0x1231e2b8 -> 0x15039610]: eval eval withVisible withCallingHandlers doTryCatch tryCatchOne tryCatchList tryCatch try handle timing_fn evaluate_call evaluate doTryCatch tryCatchOne tryCatchList doTryCatch tryCatchOne tryCatchList tryCatch <Anonymous> handle_shell <Anonymous> <Anonymous> \n",
      "tracemem[0x15039610 -> 0x15039678]: [[<-.data.frame [[<- eval eval withVisible withCallingHandlers doTryCatch tryCatchOne tryCatchList tryCatch try handle timing_fn evaluate_call evaluate doTryCatch tryCatchOne tryCatchList doTryCatch tryCatchOne tryCatchList tryCatch <Anonymous> handle_shell <Anonymous> <Anonymous> \n",
      "tracemem[0x15039678 -> 0x15039748]: [[<-.data.frame [[<- eval eval withVisible withCallingHandlers doTryCatch tryCatchOne tryCatchList tryCatch try handle timing_fn evaluate_call evaluate doTryCatch tryCatchOne tryCatchList doTryCatch tryCatchOne tryCatchList tryCatch <Anonymous> handle_shell <Anonymous> <Anonymous> \n",
      "tracemem[0x15039748 -> 0x15039818]: eval eval withVisible withCallingHandlers doTryCatch tryCatchOne tryCatchList tryCatch try handle timing_fn evaluate_call evaluate doTryCatch tryCatchOne tryCatchList doTryCatch tryCatchOne tryCatchList tryCatch <Anonymous> handle_shell <Anonymous> <Anonymous> \n",
      "tracemem[0x15039818 -> 0x15039880]: [[<-.data.frame [[<- eval eval withVisible withCallingHandlers doTryCatch tryCatchOne tryCatchList tryCatch try handle timing_fn evaluate_call evaluate doTryCatch tryCatchOne tryCatchList doTryCatch tryCatchOne tryCatchList tryCatch <Anonymous> handle_shell <Anonymous> <Anonymous> \n",
      "tracemem[0x15039880 -> 0x15039a20]: [[<-.data.frame [[<- eval eval withVisible withCallingHandlers doTryCatch tryCatchOne tryCatchList tryCatch try handle timing_fn evaluate_call evaluate doTryCatch tryCatchOne tryCatchList doTryCatch tryCatchOne tryCatchList tryCatch <Anonymous> handle_shell <Anonymous> <Anonymous> \n",
      "tracemem[0x15039a20 -> 0x150e18d0]: eval eval withVisible withCallingHandlers doTryCatch tryCatchOne tryCatchList tryCatch try handle timing_fn evaluate_call evaluate doTryCatch tryCatchOne tryCatchList doTryCatch tryCatchOne tryCatchList tryCatch <Anonymous> handle_shell <Anonymous> <Anonymous> \n",
      "tracemem[0x150e18d0 -> 0x150e1a08]: [[<-.data.frame [[<- eval eval withVisible withCallingHandlers doTryCatch tryCatchOne tryCatchList tryCatch try handle timing_fn evaluate_call evaluate doTryCatch tryCatchOne tryCatchList doTryCatch tryCatchOne tryCatchList tryCatch <Anonymous> handle_shell <Anonymous> <Anonymous> \n",
      "tracemem[0x150e1a08 -> 0x150e1ad8]: [[<-.data.frame [[<- eval eval withVisible withCallingHandlers doTryCatch tryCatchOne tryCatchList tryCatch try handle timing_fn evaluate_call evaluate doTryCatch tryCatchOne tryCatchList doTryCatch tryCatchOne tryCatchList tryCatch <Anonymous> handle_shell <Anonymous> <Anonymous> \n",
      "tracemem[0x150e1ad8 -> 0x150e1b40]: eval eval withVisible withCallingHandlers doTryCatch tryCatchOne tryCatchList tryCatch try handle timing_fn evaluate_call evaluate doTryCatch tryCatchOne tryCatchList doTryCatch tryCatchOne tryCatchList tryCatch <Anonymous> handle_shell <Anonymous> <Anonymous> \n",
      "tracemem[0x150e1b40 -> 0x150e1ba8]: [[<-.data.frame [[<- eval eval withVisible withCallingHandlers doTryCatch tryCatchOne tryCatchList tryCatch try handle timing_fn evaluate_call evaluate doTryCatch tryCatchOne tryCatchList doTryCatch tryCatchOne tryCatchList tryCatch <Anonymous> handle_shell <Anonymous> <Anonymous> \n",
      "tracemem[0x150e1ba8 -> 0x150e1c10]: [[<-.data.frame [[<- eval eval withVisible withCallingHandlers doTryCatch tryCatchOne tryCatchList tryCatch try handle timing_fn evaluate_call evaluate doTryCatch tryCatchOne tryCatchList doTryCatch tryCatchOne tryCatchList tryCatch <Anonymous> handle_shell <Anonymous> <Anonymous> \n",
      "tracemem[0x150e1c10 -> 0x150e1ce0]: eval eval withVisible withCallingHandlers doTryCatch tryCatchOne tryCatchList tryCatch try handle timing_fn evaluate_call evaluate doTryCatch tryCatchOne tryCatchList doTryCatch tryCatchOne tryCatchList tryCatch <Anonymous> handle_shell <Anonymous> <Anonymous> \n",
      "tracemem[0x150e1ce0 -> 0x150e1d48]: [[<-.data.frame [[<- eval eval withVisible withCallingHandlers doTryCatch tryCatchOne tryCatchList tryCatch try handle timing_fn evaluate_call evaluate doTryCatch tryCatchOne tryCatchList doTryCatch tryCatchOne tryCatchList tryCatch <Anonymous> handle_shell <Anonymous> <Anonymous> \n",
      "tracemem[0x150e1d48 -> 0x150e1e80]: [[<-.data.frame [[<- eval eval withVisible withCallingHandlers doTryCatch tryCatchOne tryCatchList tryCatch try handle timing_fn evaluate_call evaluate doTryCatch tryCatchOne tryCatchList doTryCatch tryCatchOne tryCatchList tryCatch <Anonymous> handle_shell <Anonymous> <Anonymous> \n"
     ]
    }
   ],
   "source": [
    "cat(tracemem(x), \"\\n\")\n",
    "\n",
    "for (i in 1:5) {\n",
    "  x[[i]] <- x[[i]] - medians[[i]]\n",
    "}\n",
    "\n",
    "untracemem(x)"
   ]
  },
  {
   "cell_type": "code",
   "execution_count": 125,
   "metadata": {},
   "outputs": [
    {
     "name": "stdout",
     "output_type": "stream",
     "text": [
      "<0x15011430> \n",
      "tracemem[0x15011430 -> 0x1513a8c8]: eval eval withVisible withCallingHandlers doTryCatch tryCatchOne tryCatchList tryCatch try handle timing_fn evaluate_call evaluate doTryCatch tryCatchOne tryCatchList doTryCatch tryCatchOne tryCatchList tryCatch <Anonymous> handle_shell <Anonymous> <Anonymous> \n"
     ]
    }
   ],
   "source": [
    "y <- as.list(x)\n",
    "cat(tracemem(y), \"\\n\")\n",
    "#> <0x7f80c5c3de20>\n",
    "  \n",
    "for (i in 1:5) {\n",
    "  y[[i]] <- y[[i]] - medians[[i]]\n",
    "}\n",
    "#> tracemem[0x7f80c5c3de20 -> 0x7f80c48de210]: "
   ]
  },
  {
   "cell_type": "code",
   "execution_count": 126,
   "metadata": {},
   "outputs": [
    {
     "ename": "ERROR",
     "evalue": "Error in tracemem(e): 'tracemem' is not useful for promise and environment objects\n",
     "output_type": "error",
     "traceback": [
      "Error in tracemem(e): 'tracemem' is not useful for promise and environment objects\nTraceback:\n"
     ]
    }
   ],
   "source": [
    "e <- rlang::env()\n",
    "tracemem(e)"
   ]
  },
  {
   "cell_type": "code",
   "execution_count": null,
   "metadata": {},
   "outputs": [],
   "source": []
  },
  {
   "cell_type": "code",
   "execution_count": null,
   "metadata": {},
   "outputs": [],
   "source": []
  },
  {
   "cell_type": "code",
   "execution_count": null,
   "metadata": {},
   "outputs": [],
   "source": []
  },
  {
   "cell_type": "code",
   "execution_count": null,
   "metadata": {},
   "outputs": [],
   "source": []
  },
  {
   "cell_type": "code",
   "execution_count": null,
   "metadata": {},
   "outputs": [],
   "source": []
  },
  {
   "cell_type": "code",
   "execution_count": null,
   "metadata": {},
   "outputs": [],
   "source": []
  },
  {
   "cell_type": "code",
   "execution_count": null,
   "metadata": {},
   "outputs": [],
   "source": []
  },
  {
   "cell_type": "code",
   "execution_count": null,
   "metadata": {},
   "outputs": [],
   "source": []
  },
  {
   "cell_type": "code",
   "execution_count": null,
   "metadata": {},
   "outputs": [],
   "source": []
  },
  {
   "cell_type": "code",
   "execution_count": null,
   "metadata": {},
   "outputs": [],
   "source": []
  }
 ],
 "metadata": {
  "kernelspec": {
   "display_name": "R",
   "language": "R",
   "name": "ir"
  },
  "language_info": {
   "codemirror_mode": "r",
   "file_extension": ".r",
   "mimetype": "text/x-r-source",
   "name": "R",
   "pygments_lexer": "r",
   "version": "3.4.4"
  }
 },
 "nbformat": 4,
 "nbformat_minor": 2
}
